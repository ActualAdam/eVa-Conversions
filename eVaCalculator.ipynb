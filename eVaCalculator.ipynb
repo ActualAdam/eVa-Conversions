{
 "cells": [
  {
   "cell_type": "markdown",
   "id": "6f4dc85a-1460-48c7-9c9c-01511d25374f",
   "metadata": {},
   "source": [
    "H1 Calculator for eV62\n",
    "\n",
    "Torque, Power, Current and Efficiency calculator for eV conversion of 62-series Land Cruiser.\n",
    "\n",
    "Torque Converter function ref: \n",
    "- http://jmclutch.com/site/book/export/html/7 \n",
    "- https://web.mit.edu/2.972/www/reports/torque_converter/torque_converter.htm\n",
    "> speed ratio == output rpm/input rpm\\\n",
    "> Torque multiplication: Torque multiplication = -2*speed ratio + 2.2, input rpm<sub>0</sub> = 2200\\\n",
    " >PowerTC<sub>out</sub> = PowerTC<sub>in</sub> * TC Efficiency\\\n",
    " >TC Efficiency by Lookup table TCeff\n",
    "\n",
    "P135 Characteristics\n",
    " >Continuous Torque: \n",
    " >>rpm <=5000: 170  (Nm)\\\n",
    " >>rpm > 5000: 170-(rpm-5000)*.0025\\\n",
    " >Maximum Torque:\\\n",
    " >>rpm <= 2750: 320 (Nm)\\\n",
    " >>rpm >  2750: 320-(rpm-2750)*0.03\\\n",
    " \n",
    " Physics:\n",
    "* Required motor Torque (Nm) for accel = mass (kg) * acceleration (m/s/s) * Radius (m) / gear ratio\n",
    "* Power (W) = Torque (Nm) * angular speed (rads/s)\n",
    "<br>\n",
    "* angular speed (rad/s) = 2$\\pi$ * 60 * rpm\n",
    "* angular speed (rpm) = 0.10472 anglular speed rads/s\n",
    "* v<sub>i</sub> = v<sub>i-1</sub> + a*t  \n",
    "* F<sub>net</sub> = T*r - R<sub>rolling</sub> - F<sub>drag</sub> - F<sub>grade</sub>\n",
    " * R<sub>rolling</sub> = c*m*g ,  c = 0.011\n",
    " * F<sub>drag</sub> = 0.5*D<sub>air</sub>*v<sup>2</sup>*A*C<sub>drag</sub>     * C<sub>drag</sub> = .33, A = 3.6m<sup>2</sup>\n",
    " * F<sub>grade</sub> = mgSin(theta)\n",
    "  * theta = grade% * 100 * .57 * pi/180\n",
    "  * theta<sub>6%</sub> = 3.420 deg * pi/180\n",
    "\n",
    "\n"
   ]
  },
  {
   "cell_type": "markdown",
   "id": "e6f48824-ff20-4ad8-8ee5-6eea15f39b91",
   "metadata": {},
   "source": [
    "<h>Basic Library and variable definition</h>\n"
   ]
  },
  {
   "cell_type": "code",
   "execution_count": 2,
   "id": "ecc49eb0-e4e2-4033-ab28-6accfebe8ab1",
   "metadata": {},
   "outputs": [
    {
     "ename": "ValueError",
     "evalue": "cannot set a row with mismatched columns",
     "output_type": "error",
     "traceback": [
      "\u001b[1;31m---------------------------------------------------------------------------\u001b[0m",
      "\u001b[1;31mValueError\u001b[0m                                Traceback (most recent call last)",
      "Input \u001b[1;32mIn [2]\u001b[0m, in \u001b[0;36m<cell line: 32>\u001b[1;34m()\u001b[0m\n\u001b[0;32m     50\u001b[0m     \u001b[38;5;66;03m#RPM_row = {'RPM':rpm,'ContinT':contT,'MaxT':maxT,'ContinP':contP,'MaxP':maxP}\u001b[39;00m\n\u001b[0;32m     51\u001b[0m     RPM_row \u001b[38;5;241m=\u001b[39m [rpm,contT,maxT,contP,maxP]\n\u001b[1;32m---> 52\u001b[0m     PP135\u001b[38;5;241m.\u001b[39mloc[i]\u001b[38;5;241m=\u001b[39mRPM_row           \n\u001b[0;32m     54\u001b[0m \u001b[38;5;66;03m#plt.plot(contTlist,color='magenta',marker='o',mfc='pink')\u001b[39;00m\n\u001b[0;32m     55\u001b[0m \u001b[38;5;66;03m#plt.xticks(range(0,8000,1000))\u001b[39;00m\n\u001b[0;32m     56\u001b[0m \u001b[38;5;66;03m#plt.ylabel('contT')\u001b[39;00m\n\u001b[1;32m   (...)\u001b[0m\n\u001b[0;32m     59\u001b[0m \n\u001b[0;32m     60\u001b[0m \u001b[38;5;66;03m#NRADF = pd.read_html('https://www.ssa.gov/oact/progdata/nra.html')\u001b[39;00m\n\u001b[0;32m     61\u001b[0m \u001b[38;5;28mprint\u001b[39m(PP135)\n",
      "File \u001b[1;32mC:\\ProgramData\\Anaconda3\\lib\\site-packages\\pandas\\core\\indexing.py:716\u001b[0m, in \u001b[0;36m_LocationIndexer.__setitem__\u001b[1;34m(self, key, value)\u001b[0m\n\u001b[0;32m    713\u001b[0m \u001b[38;5;28mself\u001b[39m\u001b[38;5;241m.\u001b[39m_has_valid_setitem_indexer(key)\n\u001b[0;32m    715\u001b[0m iloc \u001b[38;5;241m=\u001b[39m \u001b[38;5;28mself\u001b[39m \u001b[38;5;28;01mif\u001b[39;00m \u001b[38;5;28mself\u001b[39m\u001b[38;5;241m.\u001b[39mname \u001b[38;5;241m==\u001b[39m \u001b[38;5;124m\"\u001b[39m\u001b[38;5;124miloc\u001b[39m\u001b[38;5;124m\"\u001b[39m \u001b[38;5;28;01melse\u001b[39;00m \u001b[38;5;28mself\u001b[39m\u001b[38;5;241m.\u001b[39mobj\u001b[38;5;241m.\u001b[39miloc\n\u001b[1;32m--> 716\u001b[0m \u001b[43miloc\u001b[49m\u001b[38;5;241;43m.\u001b[39;49m\u001b[43m_setitem_with_indexer\u001b[49m\u001b[43m(\u001b[49m\u001b[43mindexer\u001b[49m\u001b[43m,\u001b[49m\u001b[43m \u001b[49m\u001b[43mvalue\u001b[49m\u001b[43m,\u001b[49m\u001b[43m \u001b[49m\u001b[38;5;28;43mself\u001b[39;49m\u001b[38;5;241;43m.\u001b[39;49m\u001b[43mname\u001b[49m\u001b[43m)\u001b[49m\n",
      "File \u001b[1;32mC:\\ProgramData\\Anaconda3\\lib\\site-packages\\pandas\\core\\indexing.py:1682\u001b[0m, in \u001b[0;36m_iLocIndexer._setitem_with_indexer\u001b[1;34m(self, indexer, value, name)\u001b[0m\n\u001b[0;32m   1679\u001b[0m     indexer, missing \u001b[38;5;241m=\u001b[39m convert_missing_indexer(indexer)\n\u001b[0;32m   1681\u001b[0m     \u001b[38;5;28;01mif\u001b[39;00m missing:\n\u001b[1;32m-> 1682\u001b[0m         \u001b[38;5;28;43mself\u001b[39;49m\u001b[38;5;241;43m.\u001b[39;49m\u001b[43m_setitem_with_indexer_missing\u001b[49m\u001b[43m(\u001b[49m\u001b[43mindexer\u001b[49m\u001b[43m,\u001b[49m\u001b[43m \u001b[49m\u001b[43mvalue\u001b[49m\u001b[43m)\u001b[49m\n\u001b[0;32m   1683\u001b[0m         \u001b[38;5;28;01mreturn\u001b[39;00m\n\u001b[0;32m   1685\u001b[0m \u001b[38;5;66;03m# align and set the values\u001b[39;00m\n",
      "File \u001b[1;32mC:\\ProgramData\\Anaconda3\\lib\\site-packages\\pandas\\core\\indexing.py:1998\u001b[0m, in \u001b[0;36m_iLocIndexer._setitem_with_indexer_missing\u001b[1;34m(self, indexer, value)\u001b[0m\n\u001b[0;32m   1995\u001b[0m     \u001b[38;5;28;01mif\u001b[39;00m is_list_like_indexer(value):\n\u001b[0;32m   1996\u001b[0m         \u001b[38;5;66;03m# must have conforming columns\u001b[39;00m\n\u001b[0;32m   1997\u001b[0m         \u001b[38;5;28;01mif\u001b[39;00m \u001b[38;5;28mlen\u001b[39m(value) \u001b[38;5;241m!=\u001b[39m \u001b[38;5;28mlen\u001b[39m(\u001b[38;5;28mself\u001b[39m\u001b[38;5;241m.\u001b[39mobj\u001b[38;5;241m.\u001b[39mcolumns):\n\u001b[1;32m-> 1998\u001b[0m             \u001b[38;5;28;01mraise\u001b[39;00m \u001b[38;5;167;01mValueError\u001b[39;00m(\u001b[38;5;124m\"\u001b[39m\u001b[38;5;124mcannot set a row with mismatched columns\u001b[39m\u001b[38;5;124m\"\u001b[39m)\n\u001b[0;32m   2000\u001b[0m     value \u001b[38;5;241m=\u001b[39m Series(value, index\u001b[38;5;241m=\u001b[39m\u001b[38;5;28mself\u001b[39m\u001b[38;5;241m.\u001b[39mobj\u001b[38;5;241m.\u001b[39mcolumns, name\u001b[38;5;241m=\u001b[39mindexer)\n\u001b[0;32m   2002\u001b[0m \u001b[38;5;28;01mif\u001b[39;00m \u001b[38;5;129;01mnot\u001b[39;00m \u001b[38;5;28mlen\u001b[39m(\u001b[38;5;28mself\u001b[39m\u001b[38;5;241m.\u001b[39mobj):\n\u001b[0;32m   2003\u001b[0m     \u001b[38;5;66;03m# We will ignore the existing dtypes instead of using\u001b[39;00m\n\u001b[0;32m   2004\u001b[0m     \u001b[38;5;66;03m#  internals.concat logic\u001b[39;00m\n",
      "\u001b[1;31mValueError\u001b[0m: cannot set a row with mismatched columns"
     ]
    }
   ],
   "source": [
    "import matplotlib.pyplot as plt\n",
    "import numpy as np\n",
    "import math\n",
    "import pandas as pd\n",
    "\n",
    "\n",
    "eVaMass = 2300\n",
    "tireWidth = 265\n",
    "tireRatio = 70\n",
    "tireRim = 18\n",
    "tireDia = tireWidth/25.4*tireRatio*.2+tireRim # tire dia in in\n",
    "tireRadius = tireDia*.0254/2  # tire radius in meters\n",
    "tireRevPerMile = tireDia/.0254*19.1\n",
    "diffG = 4.11\n",
    "A343F=[2.757,1.531,1,0.75]\n",
    "H42=[2.866,2.3,1.4,1]\n",
    "TCRatio = 2.8\n",
    "TCLockupRPM = 2750\n",
    "TCeff = {0:0,.1:.2,.3:.6,.4:.7,.5:.8,.6:.9}\n",
    "TCmult = 2.4 - .2*TCRatio\n",
    "rpm = 0\n",
    "i = 0\n",
    "\n",
    "PP135=pd.DataFrame({'RPM':[0],\n",
    "                 'ContinT':[175],\n",
    "                 'MaxT':[320],\n",
    "                 'ContinP':[0],\n",
    "                 'MaxP':[0],\n",
    "                 'Velocity':[0]   \n",
    "                   })\n",
    "\n",
    "while rpm<7701:\n",
    "    if rpm<5000:\n",
    "        contT = 170\n",
    "    else:\n",
    "        contT = 170-0.0025*rpm\n",
    "    if rpm<2750:\n",
    "        maxT = 320\n",
    "    else:\n",
    "        maxT = 320-.03*(rpm-2750)\n",
    "    contP = contT * rpm /9.5488\n",
    "    maxP = maxT * rpm / 9.5488\n",
    "   # rpmlist.insert(i,rpm)\n",
    "   # contTlist.insert(i,contT)\n",
    "   # contPlist.insert(i,contP)\n",
    "   # maxTlist.insert(i,maxT)\n",
    "   # maxPlist.insert(i,maxP)\n",
    "    i=i+1\n",
    "    rpm = rpm+100\n",
    "    #RPM_row = {'RPM':rpm,'ContinT':contT,'MaxT':maxT,'ContinP':contP,'MaxP':maxP}\n",
    "    RPM_row = [rpm,contT,maxT,contP,maxP]\n",
    "    PP135.loc[i]=RPM_row           \n",
    "\n",
    "#plt.plot(contTlist,color='magenta',marker='o',mfc='pink')\n",
    "#plt.xticks(range(0,8000,1000))\n",
    "#plt.ylabel('contT')\n",
    "#plt.xlabel('rpm')\n",
    "#plt.show()\n",
    "\n",
    "#NRADF = pd.read_html('https://www.ssa.gov/oact/progdata/nra.html')\n",
    "print(PP135)"
   ]
  },
  {
   "cell_type": "code",
   "execution_count": 1,
   "id": "fa0493b7-0640-4f3d-96d1-2c1bf8aa4e20",
   "metadata": {},
   "outputs": [
    {
     "ename": "NameError",
     "evalue": "name 'PP135' is not defined",
     "output_type": "error",
     "traceback": [
      "\u001b[1;31m---------------------------------------------------------------------------\u001b[0m",
      "\u001b[1;31mNameError\u001b[0m                                 Traceback (most recent call last)",
      "Input \u001b[1;32mIn [1]\u001b[0m, in \u001b[0;36m<cell line: 1>\u001b[1;34m()\u001b[0m\n\u001b[1;32m----> 1\u001b[0m \u001b[38;5;28mprint\u001b[39m(\u001b[43mPP135\u001b[49m)\n",
      "\u001b[1;31mNameError\u001b[0m: name 'PP135' is not defined"
     ]
    }
   ],
   "source": [
    "print(PP135)"
   ]
  },
  {
   "cell_type": "code",
   "execution_count": null,
   "id": "15e2476e-5b5c-4770-a6e7-c1e3e28c9f79",
   "metadata": {},
   "outputs": [],
   "source": []
  }
 ],
 "metadata": {
  "kernelspec": {
   "display_name": "Python 3 (ipykernel)",
   "language": "python",
   "name": "python3"
  },
  "language_info": {
   "codemirror_mode": {
    "name": "ipython",
    "version": 3
   },
   "file_extension": ".py",
   "mimetype": "text/x-python",
   "name": "python",
   "nbconvert_exporter": "python",
   "pygments_lexer": "ipython3",
   "version": "3.9.12"
  }
 },
 "nbformat": 4,
 "nbformat_minor": 5
}

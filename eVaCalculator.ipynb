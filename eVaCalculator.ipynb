{
 "cells": [
  {
   "cell_type": "markdown",
   "id": "6f4dc85a-1460-48c7-9c9c-01511d25374f",
   "metadata": {},
   "source": [
    "H1 Calculator for eV62\n",
    "p\n",
    "Torque, Power, Current and Efficiency calculator for eV conversion of 62-series Land Cruiser.\n",
    "\n",
    "Torque Converter function ref: http://jmclutch.com/site/book/export/html/7 and https://web.mit.edu/2.972/www/reports/torque_converter/torque_converter.htm\n",
    "> speed ratio == output rpm/input rpm\\\n",
    "> Torque multiplication: Torque multiplication = -2*speed ratio + 2.2, input rpm<sub>0</sub> = 2200\\\n",
    " >PowerTC<sub>out</sub> = PowerTC<sub>in</sub> * TC Efficiency\\\n",
    " >TC Efficiency by Lookup table TCeff\n",
    "\n",
    "P135 Characteristics\n",
    " >Continuous Torque: \n",
    " >>rpm <=5000: 170  (Nm)\\\n",
    " >>rpm > 5000: 170-(rpm-5000)*.0025\\\n",
    " >Maximum Torque:\\\n",
    " >>rpm <= 2750: 320 (Nm)\\\n",
    " >>rpm >  2750: 320-(rpm-2750)*0.03\\\n",
    " \n",
    " Physics:\n",
    "* Required motor Torque (Nm) for accel = mass (kg) * acceleration (m/s/s) * Radius (m) / gear ratio\n",
    "* Power (W) = Torque (Nm) * angular speed (rads/s)\n",
    "<br>\n",
    "* angular speed (rad/s) = 2$\\pi$ * 60 * rpm\n",
    "* angular speed (rpm) = 0.10472 anglular speed rads/s\n",
    "* v<sub>i</sub> = v<sub>i-1</sub> + a*t  \n",
    "* F<sub>net</sub> = T*r - R<sub>rolling</sub> - F<sub>drag</sub> - F<sub>grade</sub>\n",
    " * R<sub>rolling</sub> = c*m*g ,  c = 0.011\n",
    " * F<sub>drag</sub> = 0.5*D<sub>air</sub>*v<sup>2</sup>*A*C<sub>drag</sub>     * C<sub>drag</sub> = .33, A = 3.6m<sup>2</sup>\n",
    " * F<sub>grade</sub> = mgSin(theta)\n",
    "  * theta = grade% * 100 * .57 * pi/180\n",
    "  * theta<sub>6%</sub> = 3.420 deg * pi/180\n",
    "\n",
    "\n"
   ]
  },
  {
   "cell_type": "markdown",
   "id": "e6f48824-ff20-4ad8-8ee5-6eea15f39b91",
   "metadata": {},
   "source": [
    "<h>Basic Library and variable definition</h>\n"
   ]
  },
  {
   "cell_type": "code",
   "execution_count": 13,
   "id": "ecc49eb0-e4e2-4033-ab28-6accfebe8ab1",
   "metadata": {},
   "outputs": [
    {
     "name": "stdout",
     "output_type": "stream",
     "text": [
      "       RPM  ContinT   MaxT        ContinP           MaxP\n",
      "0      0.0   175.00  320.0       0.000000       0.000000\n",
      "1    100.0   170.00  320.0       0.000000       0.000000\n",
      "2    200.0   170.00  320.0    1780.328418    3351.206434\n",
      "3    300.0   170.00  320.0    3560.656836    6702.412869\n",
      "4    400.0   170.00  320.0    5340.985255   10053.619303\n",
      "..     ...      ...    ...            ...            ...\n",
      "74  7400.0   151.75  183.5  116011.959618  140284.643097\n",
      "75  7500.0   151.50  180.5  117407.422922  139881.451072\n",
      "76  7600.0   151.25  177.5  118797.649966  139415.423928\n",
      "77  7700.0   151.00  174.5  120182.640751  138886.561662\n",
      "78  7800.0   150.75  171.5  121562.395275  138294.864276\n",
      "\n",
      "[79 rows x 5 columns]\n"
     ]
    }
   ],
   "source": [
    "import matplotlib.pyplot as plt\n",
    "import numpy as np\n",
    "import math\n",
    "import pandas as pd\n",
    "\n",
    "\n",
    "eVaMass = 2300\n",
    "tireWidth = 265\n",
    "tireRatio = 70\n",
    "tireRim = 18\n",
    "tireDia = tireWidth/25.4*tireRatio*.2+tireRim # tire dia in in\n",
    "tireRadius = tireDia*.0254/2  # tire radius in meters\n",
    "tireRevPerMile = tireDia/.0254*19.1\n",
    "diffG = 4.11\n",
    "A343F=[2.757,1.531,1,0.75]\n",
    "H42=[2.866,2.3,1.4,1]\n",
    "TCLockupRPM = 2750\n",
    "TCeff = {0:0,.1:.2,.3:.6,.4:.7,.5:.8,.6:.9}\n",
    "TCmult = 2.4 - .2*TCRatio\n",
    "rpm = 0\n",
    "i = 0\n",
    "\n",
    "PP135=pd.DataFrame({'RPM':[0],\n",
    "                 'ContinT':[175],\n",
    "                 'MaxT':[320],\n",
    "                 'ContinP':[0],\n",
    "                 'MaxP':[0],\n",
    "                 'Velocity':[0]   \n",
    "                   })\n",
    "\n",
    "while rpm<7701:\n",
    "    if rpm<5000:\n",
    "       contT = 170\n",
    "    else:\n",
    "         contT = 170-0.0025*rpm\n",
    "    if rpm<2750:\n",
    "        maxT = 320\n",
    "    else:\n",
    "        maxT = 320-.03*(rpm-2750)\n",
    "    contP = contT * rpm /9.5488\n",
    "    maxP = maxT * rpm / 9.5488\n",
    "   # rpmlist.insert(i,rpm)\n",
    "   # contTlist.insert(i,contT)\n",
    "   # contPlist.insert(i,contP)\n",
    "   # maxTlist.insert(i,maxT)\n",
    "   # maxPlist.insert(i,maxP)\n",
    "    i=i+1\n",
    "    rpm = rpm+100\n",
    "    #RPM_row = {'RPM':rpm,'ContinT':contT,'MaxT':maxT,'ContinP':contP,'MaxP':maxP}\n",
    "    RPM_row = [rpm,contT,maxT,contP,maxP]\n",
    "    PP135.loc[i]=RPM_row           \n",
    "\n",
    "#plt.plot(contTlist,color='magenta',marker='o',mfc='pink')\n",
    "#plt.xticks(range(0,8000,1000)\n",
    "#plt.ylabel('contT')\n",
    "#plt.xlabel('rpm')\n",
    "#plt.show()\n",
    "\n",
    "#NRADF = pd.read_html('https://www.ssa.gov/oact/progdata/nra.html')\n",
    "print(PP135)"
   ]
  },
  {
   "cell_type": "code",
   "execution_count": 12,
   "id": "fa0493b7-0640-4f3d-96d1-2c1bf8aa4e20",
   "metadata": {},
   "outputs": [
    {
     "name": "stdout",
     "output_type": "stream",
     "text": [
      "   RPM  ContinT  MaxT  ContinP  MaxP\n",
      "0    0      175   320        0     0\n"
     ]
    }
   ],
   "source": [
    "print(PP135)"
   ]
  },
  {
   "cell_type": "code",
   "execution_count": null,
   "id": "15e2476e-5b5c-4770-a6e7-c1e3e28c9f79",
   "metadata": {},
   "outputs": [],
   "source": []
  }
 ],
 "metadata": {
  "kernelspec": {
   "display_name": "Python 3 (ipykernel)",
   "language": "python",
   "name": "python3"
  },
  "language_info": {
   "codemirror_mode": {
    "name": "ipython",
    "version": 3
   },
   "file_extension": ".py",
   "mimetype": "text/x-python",
   "name": "python",
   "nbconvert_exporter": "python",
   "pygments_lexer": "ipython3",
   "version": "3.9.12"
  }
 },
 "nbformat": 4,
 "nbformat_minor": 5
}
